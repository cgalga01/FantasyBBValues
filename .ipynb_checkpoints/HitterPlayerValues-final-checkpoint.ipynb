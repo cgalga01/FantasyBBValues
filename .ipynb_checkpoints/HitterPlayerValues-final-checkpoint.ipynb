{
 "cells": [
  {
   "cell_type": "code",
   "execution_count": 1,
   "id": "de71062f",
   "metadata": {},
   "outputs": [
    {
     "name": "stderr",
     "output_type": "stream",
     "text": [
      "/var/folders/xb/k5jn_45j51v9dkktpk3b41ch0000gn/T/ipykernel_62403/3442623208.py:8: FutureWarning: The default value of regex will change from True to False in a future version. In addition, single character regular expressions will *not* be treated as literal strings when regex=True.\n",
      "  mlbdb['Pos'] = mlbdb['Pos'].str.replace('*','')\n"
     ]
    }
   ],
   "source": [
    "import pandas as pd\n",
    "import numpy as np\n",
    "\n",
    "#Updated as of 8/25 9:33 AM\n",
    "mlbdb = pd.read_csv('/Users/chrisgalgano/desktop/FantasyBBValues/2023_Hitter_Data.csv') #Data taken from baseball reference\n",
    "mlbdb = mlbdb.sort_values('PA', ascending =False)\n",
    "mlbdb = mlbdb.head(400)\n",
    "mlbdb['Pos'] = mlbdb['Pos'].str.replace('*','')"
   ]
  },
  {
   "cell_type": "code",
   "execution_count": 2,
   "id": "e5fbb6f5",
   "metadata": {},
   "outputs": [],
   "source": [
    "lg_battingavg = np.sum(mlbdb['H'])/np.sum(mlbdb['AB']) #Calculating league average batting average\n",
    "lg_sluggingavg = np.sum(mlbdb['TB'])/ np.sum(mlbdb['AB']) # slugging\n",
    "\n",
    "stats = mlbdb[['Name','Pos','AB','R','HR','RBI', 'BB', 'BA','H','SLG', 'TB', 'SB']]"
   ]
  },
  {
   "cell_type": "code",
   "execution_count": 3,
   "id": "a5ecdb6a",
   "metadata": {},
   "outputs": [
    {
     "name": "stderr",
     "output_type": "stream",
     "text": [
      "/var/folders/xb/k5jn_45j51v9dkktpk3b41ch0000gn/T/ipykernel_62403/3695419874.py:2: SettingWithCopyWarning: \n",
      "A value is trying to be set on a copy of a slice from a DataFrame.\n",
      "Try using .loc[row_indexer,col_indexer] = value instead\n",
      "\n",
      "See the caveats in the documentation: https://pandas.pydata.org/pandas-docs/stable/user_guide/indexing.html#returning-a-view-versus-a-copy\n",
      "  stats['Z_R'] = round((stats['R']-np.mean(stats['R']))/np.std(stats['R']),3)\n",
      "/var/folders/xb/k5jn_45j51v9dkktpk3b41ch0000gn/T/ipykernel_62403/3695419874.py:3: SettingWithCopyWarning: \n",
      "A value is trying to be set on a copy of a slice from a DataFrame.\n",
      "Try using .loc[row_indexer,col_indexer] = value instead\n",
      "\n",
      "See the caveats in the documentation: https://pandas.pydata.org/pandas-docs/stable/user_guide/indexing.html#returning-a-view-versus-a-copy\n",
      "  stats['Z_HR'] = round((stats['HR']-np.mean(stats['HR']))/np.std(stats['HR']),3)\n",
      "/var/folders/xb/k5jn_45j51v9dkktpk3b41ch0000gn/T/ipykernel_62403/3695419874.py:4: SettingWithCopyWarning: \n",
      "A value is trying to be set on a copy of a slice from a DataFrame.\n",
      "Try using .loc[row_indexer,col_indexer] = value instead\n",
      "\n",
      "See the caveats in the documentation: https://pandas.pydata.org/pandas-docs/stable/user_guide/indexing.html#returning-a-view-versus-a-copy\n",
      "  stats['Z_RBI'] = round((stats['RBI']-np.mean(stats['RBI']))/np.std(stats['RBI']),3)\n",
      "/var/folders/xb/k5jn_45j51v9dkktpk3b41ch0000gn/T/ipykernel_62403/3695419874.py:5: SettingWithCopyWarning: \n",
      "A value is trying to be set on a copy of a slice from a DataFrame.\n",
      "Try using .loc[row_indexer,col_indexer] = value instead\n",
      "\n",
      "See the caveats in the documentation: https://pandas.pydata.org/pandas-docs/stable/user_guide/indexing.html#returning-a-view-versus-a-copy\n",
      "  stats['Z_SB'] = round((stats['SB']-np.mean(stats['SB']))/np.std(stats['SB']),3)\n",
      "/var/folders/xb/k5jn_45j51v9dkktpk3b41ch0000gn/T/ipykernel_62403/3695419874.py:6: SettingWithCopyWarning: \n",
      "A value is trying to be set on a copy of a slice from a DataFrame.\n",
      "Try using .loc[row_indexer,col_indexer] = value instead\n",
      "\n",
      "See the caveats in the documentation: https://pandas.pydata.org/pandas-docs/stable/user_guide/indexing.html#returning-a-view-versus-a-copy\n",
      "  stats['Z_SB'] = stats['Z_SB']*.5\n",
      "/var/folders/xb/k5jn_45j51v9dkktpk3b41ch0000gn/T/ipykernel_62403/3695419874.py:7: SettingWithCopyWarning: \n",
      "A value is trying to be set on a copy of a slice from a DataFrame.\n",
      "Try using .loc[row_indexer,col_indexer] = value instead\n",
      "\n",
      "See the caveats in the documentation: https://pandas.pydata.org/pandas-docs/stable/user_guide/indexing.html#returning-a-view-versus-a-copy\n",
      "  stats['Z_BB'] = round((stats['BB']-np.mean(stats['BB']))/np.std(stats['BB']),3)\n",
      "/var/folders/xb/k5jn_45j51v9dkktpk3b41ch0000gn/T/ipykernel_62403/3695419874.py:10: SettingWithCopyWarning: \n",
      "A value is trying to be set on a copy of a slice from a DataFrame.\n",
      "Try using .loc[row_indexer,col_indexer] = value instead\n",
      "\n",
      "See the caveats in the documentation: https://pandas.pydata.org/pandas-docs/stable/user_guide/indexing.html#returning-a-view-versus-a-copy\n",
      "  stats['HOA'] = round(stats['H'] - (stats['AB']*lg_battingavg),1)\n",
      "/var/folders/xb/k5jn_45j51v9dkktpk3b41ch0000gn/T/ipykernel_62403/3695419874.py:11: SettingWithCopyWarning: \n",
      "A value is trying to be set on a copy of a slice from a DataFrame.\n",
      "Try using .loc[row_indexer,col_indexer] = value instead\n",
      "\n",
      "See the caveats in the documentation: https://pandas.pydata.org/pandas-docs/stable/user_guide/indexing.html#returning-a-view-versus-a-copy\n",
      "  stats['Z_AVG'] = round(((stats['HOA']-np.mean(stats['HOA']))/(np.std(stats['HOA']))/4),3)\n",
      "/var/folders/xb/k5jn_45j51v9dkktpk3b41ch0000gn/T/ipykernel_62403/3695419874.py:13: SettingWithCopyWarning: \n",
      "A value is trying to be set on a copy of a slice from a DataFrame.\n",
      "Try using .loc[row_indexer,col_indexer] = value instead\n",
      "\n",
      "See the caveats in the documentation: https://pandas.pydata.org/pandas-docs/stable/user_guide/indexing.html#returning-a-view-versus-a-copy\n",
      "  stats['BOA'] = round(stats['TB'] - (stats['AB'] * lg_sluggingavg),1)\n",
      "/var/folders/xb/k5jn_45j51v9dkktpk3b41ch0000gn/T/ipykernel_62403/3695419874.py:14: SettingWithCopyWarning: \n",
      "A value is trying to be set on a copy of a slice from a DataFrame.\n",
      "Try using .loc[row_indexer,col_indexer] = value instead\n",
      "\n",
      "See the caveats in the documentation: https://pandas.pydata.org/pandas-docs/stable/user_guide/indexing.html#returning-a-view-versus-a-copy\n",
      "  stats['Z_SLG'] = round(((stats['BOA']-np.mean(stats['BOA']))/(np.std(stats['HOA']))/4),3)\n"
     ]
    }
   ],
   "source": [
    "#Calculating z score for each category\n",
    "stats['Z_R'] = round((stats['R']-np.mean(stats['R']))/np.std(stats['R']),3)\n",
    "stats['Z_HR'] = round((stats['HR']-np.mean(stats['HR']))/np.std(stats['HR']),3)\n",
    "stats['Z_RBI'] = round((stats['RBI']-np.mean(stats['RBI']))/np.std(stats['RBI']),3)\n",
    "stats['Z_SB'] = round((stats['SB']-np.mean(stats['SB']))/np.std(stats['SB']),3)\n",
    "stats['Z_SB'] = stats['Z_SB']*.5\n",
    "stats['Z_BB'] = round((stats['BB']-np.mean(stats['BB']))/np.std(stats['BB']),3)\n",
    "\n",
    "#Hits above average = Player Hits - (Player AB * League Batting Average)\n",
    "stats['HOA'] = round(stats['H'] - (stats['AB']*lg_battingavg),1)\n",
    "stats['Z_AVG'] = round(((stats['HOA']-np.mean(stats['HOA']))/(np.std(stats['HOA']))/4),3)\n",
    "#Bases above average = Player bases - (Player AB * League Slugging average)\n",
    "stats['BOA'] = round(stats['TB'] - (stats['AB'] * lg_sluggingavg),1)\n",
    "stats['Z_SLG'] = round(((stats['BOA']-np.mean(stats['BOA']))/(np.std(stats['HOA']))/4),3)"
   ]
  },
  {
   "cell_type": "code",
   "execution_count": 4,
   "id": "795c6e34",
   "metadata": {
    "scrolled": true
   },
   "outputs": [
    {
     "name": "stderr",
     "output_type": "stream",
     "text": [
      "/var/folders/xb/k5jn_45j51v9dkktpk3b41ch0000gn/T/ipykernel_62403/2815941137.py:33: SettingWithCopyWarning: \n",
      "A value is trying to be set on a copy of a slice from a DataFrame.\n",
      "Try using .loc[row_indexer,col_indexer] = value instead\n",
      "\n",
      "See the caveats in the documentation: https://pandas.pydata.org/pandas-docs/stable/user_guide/indexing.html#returning-a-view-versus-a-copy\n",
      "  zdata['PrimaryPos'] = pp\n"
     ]
    }
   ],
   "source": [
    "#Adjusted Positions\n",
    "\n",
    "zdata = stats[['Name','Pos','AB','R','HR','RBI','SB','BB','BA', 'SLG', 'Z_R',\n",
    "               'Z_HR','Z_RBI','Z_SB','Z_BB','Z_AVG', 'Z_SLG']]\n",
    "\n",
    "pp = []\n",
    "for item in zdata['Pos']:\n",
    "    temp = \"\"\n",
    "    if item[0] == '1':\n",
    "        temp=\"SP\"\n",
    "    elif item[0] == '2':\n",
    "        temp=\"C\"\n",
    "    elif item[0] == '3':\n",
    "        temp=\"1B\"\n",
    "    elif item[0] == '4':\n",
    "        temp=\"2B\"\n",
    "    elif item[0] == '6':\n",
    "        temp=\"SS\"\n",
    "    elif item[0] == '5':\n",
    "        temp=\"3B\"\n",
    "    elif item[0] == '7':\n",
    "        temp=\"OF\"\n",
    "    elif item[0] == '8':\n",
    "        temp=\"OF\"\n",
    "    elif item[0] == '9':\n",
    "        temp=\"OF\"\n",
    "    elif item[0] =='D':\n",
    "        temp=\"DH\"\n",
    "    else:\n",
    "        temp= item[0]\n",
    "    pp.append(temp)\n",
    "\n",
    "zdata['PrimaryPos'] = pp"
   ]
  },
  {
   "cell_type": "code",
   "execution_count": 5,
   "id": "04597f98",
   "metadata": {},
   "outputs": [
    {
     "name": "stderr",
     "output_type": "stream",
     "text": [
      "/var/folders/xb/k5jn_45j51v9dkktpk3b41ch0000gn/T/ipykernel_62403/1918874948.py:2: FutureWarning: Indexing with multiple keys (implicitly converted to a tuple of keys) will be deprecated, use a list instead.\n",
      "  pos_z = zdata.groupby('PrimaryPos',as_index=False)['Z_R','Z_HR','Z_RBI','Z_SB','Z_BB','Z_AVG','Z_SLG'].mean()\n",
      "/var/folders/xb/k5jn_45j51v9dkktpk3b41ch0000gn/T/ipykernel_62403/1918874948.py:4: FutureWarning: Indexing with multiple keys (implicitly converted to a tuple of keys) will be deprecated, use a list instead.\n",
      "  replace_z = zdata.groupby('PrimaryPos',as_index=False)['Z_R','Z_HR','Z_RBI','Z_SB','Z_BB','Z_AVG','Z_SLG'].min()\n"
     ]
    }
   ],
   "source": [
    "#Group by positions and find replacement level player data at each position\n",
    "pos_z = zdata.groupby('PrimaryPos',as_index=False)['Z_R','Z_HR','Z_RBI','Z_SB','Z_BB','Z_AVG','Z_SLG'].mean()\n",
    "pos_z.columns=['PrimaryPos','AVGZ_R','AVGZ_HR','AVGZ_RBI','AVGZ_SB','AVGZ_BB','AVGZ_AVG','AVGZ_SLG']\n",
    "replace_z = zdata.groupby('PrimaryPos',as_index=False)['Z_R','Z_HR','Z_RBI','Z_SB','Z_BB','Z_AVG','Z_SLG'].min()\n",
    "replace_z.columns=['PrimaryPos','RepZ_R','RepZ_HR','RepZ_RBI','RepZ_SB','RepZ_BB','RepZ_AVG','RepZ_SLG']\n",
    "\n",
    "z_changes = pd.merge(pos_z,replace_z,on='PrimaryPos')\n",
    "z_changes=z_changes.round(decimals=3)\n",
    "\n",
    "zdata = pd.merge(zdata,z_changes,how='left',on='PrimaryPos')"
   ]
  },
  {
   "cell_type": "code",
   "execution_count": 6,
   "id": "b6f85b54",
   "metadata": {},
   "outputs": [
    {
     "name": "stdout",
     "output_type": "stream",
     "text": [
      "2160.0$ to spend\n",
      "Average $5.4/player\n"
     ]
    }
   ],
   "source": [
    "#Subtract Z scores by replacement level player\n",
    "zdata['Z_R'] = round(zdata['Z_R'] - zdata['RepZ_R'],3)\n",
    "zdata['Z_HR'] = round(zdata['Z_HR'] - zdata['RepZ_HR'],3)\n",
    "zdata['Z_RBI'] = round(zdata['Z_RBI'] - zdata['RepZ_RBI'],3)\n",
    "zdata['Z_SB'] = round(zdata['Z_SB'] - zdata['RepZ_SB'],3)\n",
    "zdata['Z_BB'] = round(zdata['Z_BB'] - zdata['RepZ_BB'],3)\n",
    "zdata['Z_AVG'] = round(zdata['Z_AVG'] - zdata['RepZ_AVG'],3)\n",
    "zdata['Z_SLG'] = round(zdata['Z_SLG'] - zdata['RepZ_SLG'],3)\n",
    "\n",
    "#Calculate final score\n",
    "zdata['Score'] = (zdata['Z_R'] + zdata['Z_HR'] + zdata['Z_RBI'] + zdata['Z_SB'] + \n",
    "                  zdata['Z_BB'] + zdata['Z_AVG'] + zdata['Z_SLG'])/7\n",
    "\n",
    "zdata = zdata.sort_values(by='Score',ascending=False)\n",
    "\n",
    "totaldollars = (300*12*.6)\n",
    "print('{}$ to spend'.format(totaldollars))\n",
    "\n",
    "#Value per player\n",
    "perplayer = round(totaldollars/len(zdata),1)\n",
    "print('Average ${}/player'.format(perplayer))\n",
    "\n",
    "#Z score above replacement \n",
    "zdata['ZAR'] = zdata['Score']/np.mean(zdata['Score'])\n",
    "#Total dollar value of player\n",
    "zdata['$'] = round(zdata['ZAR']*perplayer,2)\n",
    "\n",
    "printdf = zdata[['Name','PrimaryPos',\n",
    "                 'AB',\n",
    "                 'Z_R','Z_HR','Z_RBI','Z_SB','Z_BB','Z_AVG','Z_SLG',\n",
    "                 'Score','$']] \n",
    "\n",
    "printdf.to_csv('HitterPlayerValues.csv', index= False)"
   ]
  },
  {
   "cell_type": "code",
   "execution_count": null,
   "id": "ec1e8ae0",
   "metadata": {},
   "outputs": [],
   "source": []
  },
  {
   "cell_type": "code",
   "execution_count": null,
   "id": "2783701c",
   "metadata": {},
   "outputs": [],
   "source": []
  },
  {
   "cell_type": "code",
   "execution_count": null,
   "id": "576c6efe",
   "metadata": {},
   "outputs": [],
   "source": []
  }
 ],
 "metadata": {
  "kernelspec": {
   "display_name": "Python 3 (ipykernel)",
   "language": "python",
   "name": "python3"
  },
  "language_info": {
   "codemirror_mode": {
    "name": "ipython",
    "version": 3
   },
   "file_extension": ".py",
   "mimetype": "text/x-python",
   "name": "python",
   "nbconvert_exporter": "python",
   "pygments_lexer": "ipython3",
   "version": "3.10.9"
  }
 },
 "nbformat": 4,
 "nbformat_minor": 5
}
